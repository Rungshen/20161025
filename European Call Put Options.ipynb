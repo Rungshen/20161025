{
 "cells": [
  {
   "cell_type": "code",
   "execution_count": 40,
   "metadata": {
    "collapsed": true
   },
   "outputs": [],
   "source": [
    "import numpy as np\n",
    "K=9100\n",
    "Interval=500\n",
    "Premium_Call=179\n",
    "Premium_Put=185\n",
    "ST=np.arange(K-Interval,K+Interval)\n"
   ]
  },
  {
   "cell_type": "code",
   "execution_count": 41,
   "metadata": {
    "collapsed": false
   },
   "outputs": [],
   "source": [
    "Payoff_LongCall=np.maximum(ST-K,0)-Premium_Call\n",
    "Payoff_ShortCall=-Payoff_LongCall\n",
    "Payoff_LongPut=np.maximum(K-ST,0)-Premium_Put\n",
    "Payoff_ShortPut=-Payoff_LongPut\n"
   ]
  },
  {
   "cell_type": "code",
   "execution_count": 42,
   "metadata": {
    "collapsed": false,
    "scrolled": true
   },
   "outputs": [],
   "source": [
    "import matplotlib.pyplot as plt\n",
    "plt.plot(ST,Payoff_LongCall)\n",
    "plt.plot(ST,Payoff_ShortCall)\n",
    "plt.axhline(0,color='black',ls='dashed')\n",
    "plt.axvline(K,color='black',ls='dashed')\n",
    "plt.axvline(K+Premium_Call,color='black',ls='dashed')\n",
    "plt.show()"
   ]
  },
  {
   "cell_type": "code",
   "execution_count": 43,
   "metadata": {
    "collapsed": true
   },
   "outputs": [],
   "source": [
    "import numpy as np\n",
    "K=9100\n",
    "Interval=500\n",
    "Premium_Call=179\n",
    "Premium_Put=185\n",
    "ST=np.arange(K-Interval,K+Interval)"
   ]
  },
  {
   "cell_type": "code",
   "execution_count": 44,
   "metadata": {
    "collapsed": true
   },
   "outputs": [],
   "source": [
    "Payoff_LongCall=np.maximum(ST-K,0)-Premium_Call\n",
    "Payoff_ShortCall=-Payoff_LongCall\n",
    "Payoff_LongPut=np.maximum(K-ST,0)-Premium_Put\n",
    "Payoff_ShortPut=-Payoff_LongPut"
   ]
  },
  {
   "cell_type": "code",
   "execution_count": 45,
   "metadata": {
    "collapsed": true
   },
   "outputs": [],
   "source": [
    "import matplotlib.pyplot as plt\n",
    "plt.plot(ST,Payoff_LongPut)\n",
    "plt.plot(ST,Payoff_ShortPut)\n",
    "plt.axhline(0,color='black',ls='dashed')\n",
    "plt.axvline(K,color='black',ls='dashed')\n",
    "plt.axvline(K-Premium_Call,color='black',ls='dashed')\n",
    "plt.show()"
   ]
  },
  {
   "cell_type": "code",
   "execution_count": null,
   "metadata": {
    "collapsed": true
   },
   "outputs": [],
   "source": []
  }
 ],
 "metadata": {
  "kernelspec": {
   "display_name": "Python [Root]",
   "language": "python",
   "name": "Python [Root]"
  },
  "language_info": {
   "codemirror_mode": {
    "name": "ipython",
    "version": 3
   },
   "file_extension": ".py",
   "mimetype": "text/x-python",
   "name": "python",
   "nbconvert_exporter": "python",
   "pygments_lexer": "ipython3",
   "version": "3.5.2"
  }
 },
 "nbformat": 4,
 "nbformat_minor": 0
}
